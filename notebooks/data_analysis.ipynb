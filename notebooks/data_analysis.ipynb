{
 "cells": [
  {
   "cell_type": "code",
   "execution_count": null,
   "metadata": {},
   "outputs": [],
   "source": [
    "import pandas as pd\n",
    "import matplotlib.pyplot as plt\n",
    "import seaborn as sns\n",
    "import streamlit as st\n",
    "\n",
    "# Define file paths\n",
    "raw_data_path = 'C:/Users/hayyu.ragea/AppData/Local/Programs/Python/Python312/AI_Mastery_Week_1/data/raw_analyst_ratings.csv'\n",
    "historical_data_paths = {\n",
    "    'AAPL': 'C:/Users/hayyu.ragea/AppData/Local/Programs/Python/Python312/AI_Mastery_Week_1/data/AAPL_historical_data.csv',\n",
    "    'AMZN': 'C:/Users/hayyu.ragea/AppData/Local/Programs/Python/Python312/AI_Mastery_Week_1/data/AMZN_historical_data.csv',\n",
    "    'GOOG': 'C:/Users/hayyu.ragea/AppData/Local/Programs/Python/Python312/AI_Mastery_Week_1/data/GOOG_historical_data.csv',\n",
    "    'META': 'C:/Users/hayyu.ragea/AppData/Local/Programs/Python/Python312/AI_Mastery_Week_1/data/META_historical_data.csv',\n",
    "    'MSFT': 'C:/Users/hayyu.ragea/AppData/Local/Programs/Python/Python312/AI_Mastery_Week_1/data/MSFT_historical_data.csv',\n",
    "    'NVDA': 'C:/Users/hayyu.ragea/AppData/Local/Programs/Python/Python312/AI_Mastery_Week_1/data/NVDA_historical_data.csv',\n",
    "    'TSLA': 'C:/Users/hayyu.ragea/AppData/Local/Programs/Python/Python312/AI_Mastery_Week_1/data/TSLA_historical_data.csv'\n",
    "}\n",
    "\n",
    "# Load raw analyst ratings data\n",
    "raw_df = pd.read_csv(raw_data_path)\n",
    "raw_df['date'] = pd.to_datetime(raw_df['date'])\n",
    "\n",
    "# Load historical stock data\n",
    "stock_dfs = {}\n",
    "for symbol, path in historical_data_paths.items():\n",
    "    df = pd.read_csv(path)\n",
    "    df['Date'] = pd.to_datetime(df['Date'])\n",
    "    stock_dfs[symbol] = df\n",
    "\n",
    "# Example of visualizing stock data for AAPL\n",
    "aapl_df = stock_dfs['AAPL']\n",
    "plt.figure(figsize=(14, 7))\n",
    "plt.plot(aapl_df['Date'], aapl_df['Close'], label='AAPL Close Price')\n",
    "plt.title('AAPL Stock Prices Over Time')\n",
    "plt.xlabel('Date')\n",
    "plt.ylabel('Close Price')\n",
    "plt.legend()\n",
    "plt.show()\n"
   ]
  }
 ],
 "metadata": {
  "language_info": {
   "name": "python"
  }
 },
 "nbformat": 4,
 "nbformat_minor": 2
}

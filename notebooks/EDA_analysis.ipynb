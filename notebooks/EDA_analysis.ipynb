{
 "cells": [
  {
   "cell_type": "code",
   "execution_count": null,
   "metadata": {},
   "outputs": [],
   "source": [
    "import pandas as pd\n",
    "import matplotlib.pyplot as plt\n",
    "import seaborn as sns\n",
    "\n",
    "# Define file paths\n",
    "raw_data_path = 'C:/Users/hayyu.ragea/AppData/Local/Programs/Python/Python312/AI_Mastery_Week_1/data/raw_analyst_ratings.csv'\n",
    "historical_data_paths = {\n",
    "    'AAPL': 'C:/Users/hayyu.ragea/AppData/Local/Programs/Python/Python312/AI_Mastery_Week_1/data/AAPL_historical_data.csv',\n",
    "    'AMZN': 'C:/Users/hayyu.ragea/AppData/Local/Programs/Python/Python312/AI_Mastery_Week_1/data/AMZN_historical_data.csv',\n",
    "    'GOOG': 'C:/Users/hayyu.ragea/AppData/Local/Programs/Python/Python312/AI_Mastery_Week_1/data/GOOG_historical_data.csv',\n",
    "    'META': 'C:/Users/hayyu.ragea/AppData/Local/Programs/Python/Python312/AI_Mastery_Week_1/data/META_historical_data.csv',\n",
    "    'MSFT': 'C:/Users/hayyu.ragea/AppData/Local/Programs/Python/Python312/AI_Mastery_Week_1/data/MSFT_historical_data.csv',\n",
    "    'NVDA': 'C:/Users/hayyu.ragea/AppData/Local/Programs/Python/Python312/AI_Mastery_Week_1/data/NVDA_historical_data.csv',\n",
    "    'TSLA': 'C:/Users/hayyu.ragea/AppData/Local/Programs/Python/Python312/AI_Mastery_Week_1/data/TSLA_historical_data.csv'\n",
    "}\n",
    "\n",
    "# Load raw analyst ratings data\n",
    "raw_df = pd.read_csv(raw_data_path)\n",
    "raw_df['date'] = pd.to_datetime(raw_df['date'])\n",
    "\n",
    "# Descriptive Statistics\n",
    "print(raw_df.describe())\n",
    "print(raw_df.head())\n",
    "\n",
    "# Example: Distribution of article lengths\n",
    "raw_df['headline_length'] = raw_df['headline'].apply(len)\n",
    "plt.figure(figsize=(10, 6))\n",
    "sns.histplot(raw_df['headline_length'], bins=30, kde=True)\n",
    "plt.title('Distribution of Headline Lengths')\n",
    "plt.xlabel('Headline Length')\n",
    "plt.ylabel('Frequency')\n",
    "plt.show()\n",
    "\n",
    "# Publication dates analysis\n",
    "plt.figure(figsize=(14, 7))\n",
    "raw_df['date'].dt.to_period('M').value_counts().sort_index().plot(kind='bar')\n",
    "plt.title('Number of Articles Published by Month')\n",
    "plt.xlabel('Month')\n",
    "plt.ylabel('Number of Articles')\n",
    "plt.show()\n"
   ]
  }
 ],
 "metadata": {
  "language_info": {
   "name": "python"
  }
 },
 "nbformat": 4,
 "nbformat_minor": 2
}

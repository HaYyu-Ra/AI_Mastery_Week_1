{
 "cells": [
  {
   "cell_type": "code",
   "execution_count": null,
   "metadata": {},
   "outputs": [],
   "source": [
    "import pandas as pd\n",
    "from textblob import TextBlob\n",
    "\n",
    "# Define file paths\n",
    "raw_data_path = 'C:/Users/hayyu.ragea/AppData/Local/Programs/Python/Python312/AI_Mastery_Week_1/data/raw_analyst_ratings.csv'\n",
    "historical_data_path = 'C:/Users/hayyu.ragea/AppData/Local/Programs/Python/Python312/AI_Mastery_Week_1/data/AAPL_historical_data.csv'  # Example for AAPL\n",
    "\n",
    "# Load financial news data\n",
    "news_df = pd.read_csv(raw_data_path)\n",
    "\n",
    "# Perform sentiment analysis\n",
    "def analyze_sentiment(text):\n",
    "    return TextBlob(text).sentiment.polarity\n",
    "\n",
    "news_df['Sentiment'] = news_df['headline'].apply(analyze_sentiment)\n",
    "\n",
    "# Load stock data\n",
    "stock_df = pd.read_csv(historical_data_path, parse_dates=['Date'])\n",
    "\n",
    "# Merge datasets on date\n",
    "merged_df = pd.merge(news_df, stock_df, left_on='date', right_on='Date')\n",
    "\n",
    "# Calculate daily returns\n",
    "merged_df['Daily_Return'] = merged_df['Close'].pct_change()\n",
    "\n",
    "# Calculate correlation\n",
    "correlation = merged_df[['Sentiment', 'Daily_Return']].corr().iloc[0, 1]\n",
    "print(f'Correlation between news sentiment and stock returns: {correlation}')\n"
   ]
  }
 ],
 "metadata": {
  "language_info": {
   "name": "python"
  }
 },
 "nbformat": 4,
 "nbformat_minor": 2
}

{
 "cells": [
  {
   "cell_type": "code",
   "execution_count": null,
   "metadata": {},
   "outputs": [],
   "source": [
    "import pandas as pd\n",
    "import matplotlib.pyplot as plt\n",
    "import streamlit as st\n",
    "\n",
    "# Define file paths\n",
    "raw_data_path = 'C:/Users/hayyu.ragea/AppData/Local/Programs/Python/Python312/AI_Mastery_Week_1/data/raw_analyst_ratings.csv'\n",
    "historical_data_paths = {\n",
    "    'AAPL': 'C:/Users/hayyu.ragea/AppData/Local/Programs/Python/Python312/AI_Mastery_Week_1/data/AAPL_historical_data.csv',\n",
    "    'AMZN': 'C:/Users/hayyu.ragea/AppData/Local/Programs/Python/Python312/AI_Mastery_Week_1/data/AMZN_historical_data.csv',\n",
    "    'GOOG': 'C:/Users/hayyu.ragea/AppData/Local/Programs/Python/Python312/AI_Mastery_Week_1/data/GOOG_historical_data.csv',\n",
    "    'META': 'C:/Users/hayyu.ragea/AppData/Local/Programs/Python/Python312/AI_Mastery_Week_1/data/META_historical_data.csv',\n",
    "    'MSFT': 'C:/Users/hayyu.ragea/AppData/Local/Programs/Python/Python312/AI_Mastery_Week_1/data/MSFT_historical_data.csv',\n",
    "    'NVDA': 'C:/Users/hayyu.ragea/AppData/Local/Programs/Python/Python312/AI_Mastery_Week_1/data/NVDA_historical_data.csv',\n",
    "    'TSLA': 'C:/Users/hayyu.ragea/AppData/Local/Programs/Python/Python312/AI_Mastery_Week_1/data/TSLA_historical_data.csv'\n",
    "}\n",
    "\n",
    "# Load data\n",
    "raw_df = pd.read_csv(raw_data_path)\n",
    "raw_df['date'] = pd.to_datetime(raw_df['date'])\n",
    "stock_dfs = {symbol: pd.read_csv(path, parse_dates=['Date']) for symbol, path in historical_data_paths.items()}\n",
    "\n",
    "# Streamlit Dashboard\n",
    "st.title('Financial Dashboard')\n",
    "\n",
    "# Display raw data\n",
    "st.header('Raw Analyst Ratings')\n",
    "st.write(raw_df)\n",
    "\n",
    "# Select stock for visualization\n",
    "selected_stock = st.selectbox('Select Stock Symbol', list(stock_dfs.keys()))\n",
    "\n",
    "# Display stock data\n",
    "stock_df = stock_dfs[selected_stock]\n",
    "st.header(f'{selected_stock} Stock Prices')\n",
    "st.line_chart(stock_df.set_index('Date')['Close'])\n",
    "\n",
    "# Sentiment analysis on raw data\n",
    "st.header('Sentiment Analysis of News Headlines')\n",
    "raw_df['Sentiment'] = raw_df['headline'].apply(lambda x: TextBlob(x).sentiment.polarity)\n",
    "st.write(raw_df[['date', 'headline', 'Sentiment']])\n"
   ]
  }
 ],
 "metadata": {
  "language_info": {
   "name": "python"
  }
 },
 "nbformat": 4,
 "nbformat_minor": 2
}
